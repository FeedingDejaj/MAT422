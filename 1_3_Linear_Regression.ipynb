{
  "nbformat": 4,
  "nbformat_minor": 0,
  "metadata": {
    "colab": {
      "provenance": [],
      "authorship_tag": "ABX9TyPOHCyPC8qgDNUnyJE+phMD",
      "include_colab_link": true
    },
    "kernelspec": {
      "name": "python3",
      "display_name": "Python 3"
    },
    "language_info": {
      "name": "python"
    }
  },
  "cells": [
    {
      "cell_type": "markdown",
      "metadata": {
        "id": "view-in-github",
        "colab_type": "text"
      },
      "source": [
        "<a href=\"https://colab.research.google.com/github/FeedingDejaj/MAT422/blob/main/1_3_Linear_Regression.ipynb\" target=\"_parent\"><img src=\"https://colab.research.google.com/assets/colab-badge.svg\" alt=\"Open In Colab\"/></a>"
      ]
    },
    {
      "cell_type": "markdown",
      "source": [
        "# 1.3 - Linear Regression\n",
        "By Abdula Alkhafaji"
      ],
      "metadata": {
        "id": "veLRmX8y286l"
      }
    },
    {
      "cell_type": "markdown",
      "source": [
        "\n",
        "\n",
        "---\n",
        "\n"
      ],
      "metadata": {
        "id": "7ef7wg4I-IZU"
      }
    },
    {
      "cell_type": "markdown",
      "source": [
        "### **1.3.1 QR Decomposition:** a way to break down a matrix into two simpler matrices.\n",
        "\n",
        "1. Q is an orthogonal matrix, meaning its columns are perpendicular (at right angles) to each other, and each column has a length of 1.\n",
        "\n",
        "2. R is an upper triangular matrix, meaning all its entries below the diagonal are zero.\n",
        "\n",
        "![Image](https://media.geeksforgeeks.org/wp-content/uploads/20221207110618/tma.jpg)\n",
        "\n",
        "\n",
        "\n",
        "- This decomposition is useful in solving systems of linear equations and other numerical methods. It's called \"QR\" because you are factoring a matrix A into A=QR.\n",
        "\n",
        "- In simpler terms, you’re splitting a matrix into one matrix that just rotates things (Q) and another matrix that scales them (R)."
      ],
      "metadata": {
        "id": "Sbdn4pKE3EYI"
      }
    },
    {
      "cell_type": "code",
      "source": [
        "import numpy as np\n",
        "\n",
        "def qr_decomposition(A):\n",
        "\n",
        "  # Calculate the QR decomposition using numpy's built-in function\n",
        "  Q, R = np.linalg.qr(A)\n",
        "\n",
        "  return Q, R\n",
        "\n",
        "# Example usage\n",
        "A = np.array([[1, 2], [3, 4]])\n",
        "Q, R = qr_decomposition(A)\n",
        "\n",
        "print(\"Matrix A:\")\n",
        "print(A)\n",
        "print(\"\\nMatrix Q:\")\n",
        "print(Q)\n",
        "print(\"\\nMatrix R:\")\n",
        "print(R)\n",
        "print(\"\\nQ * R:\")\n",
        "print(np.dot(Q, R))  # Verify that Q * R = A\n"
      ],
      "metadata": {
        "colab": {
          "base_uri": "https://localhost:8080/"
        },
        "collapsed": true,
        "id": "u1dePjhA9H7v",
        "outputId": "2a8446d4-a526-4efb-b8bf-92200cefcbea"
      },
      "execution_count": 2,
      "outputs": [
        {
          "output_type": "stream",
          "name": "stdout",
          "text": [
            "Matrix A:\n",
            "[[1 2]\n",
            " [3 4]]\n",
            "\n",
            "Matrix Q:\n",
            "[[-0.31622777 -0.9486833 ]\n",
            " [-0.9486833   0.31622777]]\n",
            "\n",
            "Matrix R:\n",
            "[[-3.16227766 -4.42718872]\n",
            " [ 0.         -0.63245553]]\n",
            "\n",
            "Q * R:\n",
            "[[1. 2.]\n",
            " [3. 4.]]\n"
          ]
        }
      ]
    },
    {
      "cell_type": "markdown",
      "source": [
        "\n",
        "\n",
        "---\n",
        "\n"
      ],
      "metadata": {
        "id": "QVNmhYFOFrvv"
      }
    },
    {
      "cell_type": "markdown",
      "source": [
        "### **1.3.2 Method of Least-Squares:** a way to find the best solution to a system of equations when an exact solution doesn't exist.\n",
        "\n",
        "Instead of solving the system exactly, we aim to find the solution that minimizes the overall error.\n",
        "\n",
        "1. We have more equations than unknowns, and you can't solve them all perfectly. We want to minimize the difference/ error between the actual results and what the equations predict.\n",
        "\n",
        "2. The least-squares method finds the solution that makes the total squared error as small as possible. In other words, it finds the \"closest\" solution to the system that fits all the equations as well as possible.\n",
        "\n",
        "3. If you have a system like ***Ax=b*** , the least-squares solution finds an ***x*** that minimizes the difference between ***Ax*** and ***b***, making the total error as small as possible."
      ],
      "metadata": {
        "id": "W8h9JgXy-UkN"
      }
    },
    {
      "cell_type": "code",
      "source": [
        "import numpy as np\n",
        "\n",
        "# Example data\n",
        "x = np.array([1, 2, 3, 4, 5])\n",
        "y = np.array([2, 3, 5, 4, 6])\n",
        "\n",
        "# Create the design matrix (add a column of ones for the intercept)\n",
        "X = np.vstack([np.ones(len(x)), x]).T\n",
        "\n",
        "# Calculate the coefficients using the normal equations\n",
        "# (X^T * X)^-1 * X^T * y\n",
        "beta = np.linalg.solve(X.T @ X, X.T @ y)\n",
        "\n",
        "# Extract the intercept and slope\n",
        "intercept = beta[0]\n",
        "slope = beta[1]\n",
        "\n",
        "print(f\"Intercept: {intercept}\")\n",
        "print(f\"Slope: {slope}\")\n",
        "\n",
        "# Now you can use the intercept and slope to predict new values\n",
        "new_x = 6\n",
        "predicted_y = intercept + slope * new_x\n",
        "print(f\"Predicted value for x = {new_x}: {predicted_y}\")\n",
        "\n",
        "# Visualization (optional)\n",
        "import matplotlib.pyplot as plt\n",
        "plt.scatter(x, y, color='blue')\n",
        "plt.plot(x, intercept + slope * x, color='red')\n",
        "plt.xlabel(\"x\")\n",
        "plt.ylabel(\"y\")\n",
        "plt.title(\"Least Squares Regression\")\n",
        "plt.show()\n",
        "\n"
      ],
      "metadata": {
        "colab": {
          "base_uri": "https://localhost:8080/",
          "height": 528
        },
        "collapsed": true,
        "id": "spwEPdhSA2LY",
        "outputId": "8e85ba72-b7d9-4cd3-ab09-b1122de46ab2"
      },
      "execution_count": 3,
      "outputs": [
        {
          "output_type": "stream",
          "name": "stdout",
          "text": [
            "Intercept: 1.2999999999999985\n",
            "Slope: 0.9000000000000004\n",
            "Predicted value for x = 6: 6.700000000000001\n"
          ]
        },
        {
          "output_type": "display_data",
          "data": {
            "text/plain": [
              "<Figure size 640x480 with 1 Axes>"
            ],
            "image/png": "[encoded data removed]"
          },
          "metadata": {}
        }
      ]
    },
    {
      "cell_type": "markdown",
      "source": [
        "\n",
        "\n",
        "---\n",
        "\n"
      ],
      "metadata": {
        "id": "87QF_HV9-NLj"
      }
    },
    {
      "cell_type": "markdown",
      "source": [
        "### **1.3.3 Linear Regression:** method used to find the straight line that best fits a set of data points.\n",
        "\n",
        "The idea is to predict one variable, y , based on another variable, x , by finding a line that models their relationship.\n",
        "\n",
        "1. Finds the values of m and b that make the line fit the data points as closely as possible. To do this, it minimizes the total error. *This is often done using the least-squares method.*\n",
        "\n",
        "## **𝐲 = 𝑋𝑤**\n",
        "\n",
        "- X is the matrix of input data\n",
        "- w is a vector of the weights (slope and intercept)\n",
        "- y is the vector of predicted values.\n",
        "\n",
        "We use the method of Least- Squares to try and get...\n",
        "\n",
        "### **𝑿𝑤 ≈ 𝐲**\n",
        "\n",
        "...where exact solutions may not exist. The least-squares approach finds the weights 𝑤 that result in the closest possible approximation.\n"
      ],
      "metadata": {
        "id": "_ZsDZsg1BUd6"
      }
    },
    {
      "cell_type": "code",
      "execution_count": 6,
      "metadata": {
        "colab": {
          "base_uri": "https://localhost:8080/",
          "height": 509
        },
        "id": "mWaTegzA1E36",
        "outputId": "77253501-bf0a-4512-e8c9-14151b1d5db1"
      },
      "outputs": [
        {
          "output_type": "stream",
          "name": "stdout",
          "text": [
            "Intercept: 1.4\n",
            "Slope: 1.0\n"
          ]
        },
        {
          "output_type": "display_data",
          "data": {
            "text/plain": [
              "<Figure size 640x480 with 1 Axes>"
            ],
            "image/png": "[encoded data removed]"
          },
          "metadata": {}
        }
      ],
      "source": [
        "import numpy as np\n",
        "import matplotlib.pyplot as plt\n",
        "\n",
        "# Generate some sample data\n",
        "x = np.array([1, 2, 3, 4, 5])\n",
        "y = np.array([2, 4, 5, 4, 7])\n",
        "\n",
        "# Create the design matrix (add a column of ones for the intercept)\n",
        "X = np.vstack([np.ones(len(x)), x]).T\n",
        "\n",
        "# Calculate the weights using the normal equations\n",
        "# (X^T * X)^-1 * X^T * y\n",
        "w = np.linalg.solve(X.T @ X, X.T @ y)\n",
        "\n",
        "# Extract the intercept and slope\n",
        "intercept = w[0]\n",
        "slope = w[1]\n",
        "\n",
        "print(f\"Intercept: {intercept}\")\n",
        "print(f\"Slope: {slope}\")\n",
        "\n",
        "# Predict the values using the model\n",
        "y_pred = intercept + slope * x\n",
        "\n",
        "# Visualize the results\n",
        "plt.scatter(x, y, color='blue', label='Actual Data')\n",
        "plt.plot(x, y_pred, color='red', label='Linear Regression')\n",
        "plt.xlabel(\"x\")\n",
        "plt.ylabel(\"y\")\n",
        "plt.title(\"Linear Regression Example\")\n",
        "plt.legend()\n",
        "plt.show()\n"
      ]
    },
    {
      "cell_type": "markdown",
      "source": [
        "\n",
        "\n",
        "---\n",
        "\n"
      ],
      "metadata": {
        "id": "QeyB5ACTFv-E"
      }
    },
    {
      "cell_type": "code",
      "source": [],
      "metadata": {
        "id": "4v5nXFzfFxBm"
      },
      "execution_count": null,
      "outputs": []
    }
  ]
}