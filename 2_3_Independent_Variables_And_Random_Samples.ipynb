{
  "cells": [
    {
      "cell_type": "markdown",
      "metadata": {
        "id": "view-in-github",
        "colab_type": "text"
      },
      "source": [
        "<a href=\"https://colab.research.google.com/github/FeedingDejaj/MAT422/blob/main/2_3_Independent_Variables_And_Random_Samples.ipynb\" target=\"_parent\"><img src=\"https://colab.research.google.com/assets/colab-badge.svg\" alt=\"Open In Colab\"/></a>"
      ]
    },
    {
      "cell_type": "markdown",
      "id": "e1c8f73d",
      "metadata": {
        "id": "e1c8f73d"
      },
      "source": [
        "# 2.3 Independent Variables and Random Samples"
      ]
    },
    {
      "cell_type": "markdown",
      "source": [
        "By Abdula Alkhafaji with Help from Glendale Community College Tutoring Center"
      ],
      "metadata": {
        "id": "UWMXywjuHsJg"
      },
      "id": "UWMXywjuHsJg"
    },
    {
      "cell_type": "markdown",
      "id": "debb5bec",
      "metadata": {
        "id": "debb5bec"
      },
      "source": [
        "## 2.3.1 Joint Probability Distributions\n",
        "Joint probability distributions help us understand the relationship between two or more random variables."
      ]
    },
    {
      "cell_type": "markdown",
      "id": "ecaab1be",
      "metadata": {
        "id": "ecaab1be"
      },
      "source": [
        "### 2.3.1.1 Marginal Probability Mass Function\n",
        "A marginal probability mass function (MPMF) is used for discrete random variables to describe the probability of each possible value of a variable, ignoring the other variables. For example, if we have two random variables, we can find the marginal distribution of one by summing the joint probabilities over the other variable."
      ]
    },
    {
      "cell_type": "code",
      "execution_count": 1,
      "id": "281dacee",
      "metadata": {
        "colab": {
          "base_uri": "https://localhost:8080/"
        },
        "id": "281dacee",
        "outputId": "d5b297e9-2957-4a51-8ea0-565199c663b1"
      },
      "outputs": [
        {
          "output_type": "execute_result",
          "data": {
            "text/plain": [
              "array([0.3, 0.7])"
            ]
          },
          "metadata": {},
          "execution_count": 1
        }
      ],
      "source": [
        "\n",
        "import numpy as np\n",
        "\n",
        "# Example of a joint probability mass function\n",
        "joint_pmf = np.array([[0.1, 0.2], [0.3, 0.4]])  # Joint probability for two variables\n",
        "\n",
        "# Marginal PMF of the first variable (summing over the second variable)\n",
        "marginal_pmf_var1 = np.sum(joint_pmf, axis=1)\n",
        "marginal_pmf_var1\n"
      ]
    },
    {
      "cell_type": "markdown",
      "id": "b6bcb4c5",
      "metadata": {
        "id": "b6bcb4c5"
      },
      "source": [
        "### 2.3.1.2 Continuous Random Variables\n",
        "For continuous random variables, we use probability density functions (PDFs) instead of probability mass functions. PDFs describe the likelihood of a variable taking on a particular value within a continuous range."
      ]
    },
    {
      "cell_type": "markdown",
      "id": "44d809a9",
      "metadata": {
        "id": "44d809a9"
      },
      "source": [
        "### 2.3.1.3 Marginal Probability Density Functions\n",
        "In the continuous case, marginal probability density functions are derived by integrating the joint probability density function over the other variables."
      ]
    },
    {
      "cell_type": "code",
      "execution_count": 2,
      "id": "6dd2aa41",
      "metadata": {
        "colab": {
          "base_uri": "https://localhost:8080/",
          "height": 472
        },
        "id": "6dd2aa41",
        "outputId": "b30a3986-1239-45d3-96f0-d459aa900240"
      },
      "outputs": [
        {
          "output_type": "display_data",
          "data": {
            "text/plain": [
              "<Figure size 640x480 with 2 Axes>"
            ],
            "image/png": "[encoded data removed]"
          },
          "metadata": {}
        }
      ],
      "source": [
        "\n",
        "from scipy.stats import multivariate_normal\n",
        "import matplotlib.pyplot as plt\n",
        "\n",
        "# Example of a joint probability density function (bivariate normal distribution)\n",
        "mean = [0, 0]\n",
        "cov = [[1, 0.5], [0.5, 1]]  # Covariance matrix\n",
        "rv = multivariate_normal(mean, cov)\n",
        "\n",
        "# Visualizing the joint PDF\n",
        "x, y = np.mgrid[-3:3:.01, -3:3:.01]\n",
        "pos = np.dstack((x, y))\n",
        "plt.contourf(x, y, rv.pdf(pos))\n",
        "plt.title(\"Joint Probability Density Function\")\n",
        "plt.xlabel(\"X\")\n",
        "plt.ylabel(\"Y\")\n",
        "plt.colorbar()\n",
        "plt.show()\n"
      ]
    },
    {
      "cell_type": "markdown",
      "id": "1900d01e",
      "metadata": {
        "id": "1900d01e"
      },
      "source": [
        "### 2.3.1.4 Independent Random Variables\n",
        "Two random variables are said to be independent if the occurrence of one does not affect the probability of the occurrence of the other. Mathematically, two variables X and Y are independent if the joint probability P(X, Y) equals the product of the marginal probabilities P(X) * P(Y)."
      ]
    },
    {
      "cell_type": "markdown",
      "id": "bdcdc33a",
      "metadata": {
        "id": "bdcdc33a"
      },
      "source": [
        "### 2.3.1.5 Discrete Random Variables\n",
        "Discrete random variables are variables that can take on a finite or countably infinite number of possible values. We use probability mass functions (PMFs) to describe the probabilities associated with each possible value of a discrete random variable."
      ]
    },
    {
      "cell_type": "markdown",
      "id": "c813effc",
      "metadata": {
        "id": "c813effc"
      },
      "source": [
        "## 2.3.2 Correlation and Dependence\n",
        "Correlation measures the strength and direction of a linear relationship between two random variables. Dependence is a broader concept that indicates whether two variables are related in any way, not necessarily linearly."
      ]
    },
    {
      "cell_type": "markdown",
      "id": "718273a2",
      "metadata": {
        "id": "718273a2"
      },
      "source": [
        "### 2.3.2.1 Correlation for Random Variables\n",
        "Correlation for random variables is usually measured using the Pearson correlation coefficient, which ranges from -1 (perfect negative correlation) to +1 (perfect positive correlation). A value of 0 indicates no linear correlation."
      ]
    },
    {
      "cell_type": "code",
      "execution_count": 3,
      "id": "536b7f3c",
      "metadata": {
        "colab": {
          "base_uri": "https://localhost:8080/"
        },
        "id": "536b7f3c",
        "outputId": "1d292675-e4ec-4b60-dd2f-f3cf4cb5e942"
      },
      "outputs": [
        {
          "output_type": "execute_result",
          "data": {
            "text/plain": [
              "0.4316135892869933"
            ]
          },
          "metadata": {},
          "execution_count": 3
        }
      ],
      "source": [
        "\n",
        "# Generating random data to compute Pearson correlation\n",
        "from scipy.stats import pearsonr\n",
        "\n",
        "# Random variables X and Y\n",
        "np.random.seed(0)\n",
        "X = np.random.normal(0, 1, 1000)\n",
        "Y = 0.5 * X + np.random.normal(0, 1, 1000)\n",
        "\n",
        "# Calculate the Pearson correlation coefficient\n",
        "corr_coefficient, _ = pearsonr(X, Y)\n",
        "corr_coefficient\n"
      ]
    },
    {
      "cell_type": "markdown",
      "id": "2a4d19fb",
      "metadata": {
        "id": "2a4d19fb"
      },
      "source": [
        "### 2.3.2.2 Covariance\n",
        "Covariance is a measure of how much two random variables change together. If two variables tend to increase together, the covariance is positive. If one increases while the other decreases, the covariance is negative."
      ]
    },
    {
      "cell_type": "code",
      "execution_count": 4,
      "id": "967e8ee0",
      "metadata": {
        "colab": {
          "base_uri": "https://localhost:8080/"
        },
        "id": "967e8ee0",
        "outputId": "9d2b8a3b-dcac-44e5-ba37-1e293eaddb40"
      },
      "outputs": [
        {
          "output_type": "execute_result",
          "data": {
            "text/plain": [
              "0.45746519653185985"
            ]
          },
          "metadata": {},
          "execution_count": 4
        }
      ],
      "source": [
        "\n",
        "# Covariance matrix calculation\n",
        "np.cov(X, Y)[0, 1]\n"
      ]
    },
    {
      "cell_type": "markdown",
      "id": "22a88732",
      "metadata": {
        "id": "22a88732"
      },
      "source": [
        "### 2.3.2.3 Correlation Coefficient\n",
        "The correlation coefficient is a normalized version of covariance that takes on values between -1 and 1, making it easier to interpret. A correlation of 1 indicates a perfect linear relationship, while a correlation of 0 indicates no linear relationship."
      ]
    },
    {
      "cell_type": "markdown",
      "id": "bd91bbbb",
      "metadata": {
        "id": "bd91bbbb"
      },
      "source": [
        "### 2.3.2.4 Correlation For Samples\n",
        "In practice, we often compute the correlation coefficient for a sample of data, which is an estimate of the true correlation between the variables."
      ]
    },
    {
      "cell_type": "markdown",
      "id": "6111d771",
      "metadata": {
        "id": "6111d771"
      },
      "source": [
        "## 2.3.3 Random Samples\n",
        "Random samples are used in statistics to make inferences about populations. The idea is to collect data from a representative sample, and use that data to estimate properties of the overall population."
      ]
    },
    {
      "cell_type": "markdown",
      "id": "8819cbef",
      "metadata": {
        "id": "8819cbef"
      },
      "source": [
        "### 2.3.3.1 The Central Limit Theorem\n",
        "The Central Limit Theorem (CLT) states that the distribution of the sample mean of a sufficiently large sample size will be approximately normally distributed, regardless of the underlying distribution of the data."
      ]
    },
    {
      "cell_type": "code",
      "execution_count": 5,
      "id": "8f40fc1e",
      "metadata": {
        "colab": {
          "base_uri": "https://localhost:8080/",
          "height": 472
        },
        "id": "8f40fc1e",
        "outputId": "a54d5226-edfa-4402-d28a-ecd55e151386"
      },
      "outputs": [
        {
          "output_type": "display_data",
          "data": {
            "text/plain": [
              "<Figure size 640x480 with 1 Axes>"
            ],
            "image/png": "[encoded data removed]"
          },
          "metadata": {}
        }
      ],
      "source": [
        "\n",
        "# Demonstrating the Central Limit Theorem\n",
        "sample_means = [np.mean(np.random.exponential(scale=1, size=1000)) for _ in range(1000)]\n",
        "\n",
        "# Plotting the distribution of sample means\n",
        "plt.hist(sample_means, bins=30, density=True)\n",
        "plt.title(\"Central Limit Theorem Demonstration\")\n",
        "plt.xlabel(\"Sample Mean\")\n",
        "plt.ylabel(\"Frequency\")\n",
        "plt.show()\n"
      ]
    }
  ],
  "metadata": {
    "colab": {
      "provenance": [],
      "include_colab_link": true
    },
    "language_info": {
      "name": "python"
    },
    "kernelspec": {
      "name": "python3",
      "display_name": "Python 3"
    }
  },
  "nbformat": 4,
  "nbformat_minor": 5
}