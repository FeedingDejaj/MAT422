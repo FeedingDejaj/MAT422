{
  "nbformat": 4,
  "nbformat_minor": 0,
  "metadata": {
    "colab": {
      "provenance": [],
      "authorship_tag": "ABX9TyNivC0caovLCzJx+rIJvdW1",
      "include_colab_link": true
    },
    "kernelspec": {
      "name": "python3",
      "display_name": "Python 3"
    },
    "language_info": {
      "name": "python"
    }
  },
  "cells": [
    {
      "cell_type": "markdown",
      "metadata": {
        "id": "view-in-github",
        "colab_type": "text"
      },
      "source": [
        "<a href=\"https://colab.research.google.com/github/FeedingDejaj/MAT422/blob/main/1_2LinearAlgebra.ipynb\" target=\"_parent\"><img src=\"https://colab.research.google.com/assets/colab-badge.svg\" alt=\"Open In Colab\"/></a>"
      ]
    },
    {
      "cell_type": "markdown",
      "source": [
        "Notebook by Abdula Alkhafaji\n",
        "\n",
        "Help recieved from Glendale Community College Tutoring Center\n"
      ],
      "metadata": {
        "id": "6GQKFxuUeZaA"
      }
    },
    {
      "cell_type": "markdown",
      "source": [
        "# **1.2.1 Linear Spaces**"
      ],
      "metadata": {
        "id": "9kjijdfy_l9S"
      }
    },
    {
      "cell_type": "markdown",
      "source": [
        "**Linear Space:** A collection of vectors that can be added together or multiplied by scalars while staying in the same set.\n",
        "\n",
        "***They follow two rules:***\n",
        "1. If you add two vectors from that linear space, then the resulting vectors stays in that same linear space.\n",
        "\n",
        "2. If you multiply a vector from the linear space by a scalar, the resulting vector is also still in the same linear space.\n",
        "\n",
        "Note that the 0 vector is always part of all linear spaces.\n"
      ],
      "metadata": {
        "id": "2i1E1rwt1p9o"
      }
    },
    {
      "cell_type": "markdown",
      "source": [
        "\n",
        "\n",
        "---\n",
        "\n",
        "\n"
      ],
      "metadata": {
        "id": "3B7spkjTNxSU"
      }
    },
    {
      "cell_type": "markdown",
      "source": [
        "**Linear Combinations:** When you multiply a bunch of vectors by scalars (doesn't have to be the same scalar for each vector) and then add them all together, the resulting vector is a linear combination of those vectors you started off with.\n",
        "\n",
        "Let v and w be vectors. a and b are scalars. The new vector, u, is the result of linear combinations.\n",
        "\n",
        "$u = a⋅v+b⋅w$"
      ],
      "metadata": {
        "id": "9YclzX3s6YUw"
      }
    },
    {
      "cell_type": "code",
      "source": [
        "import numpy as np\n",
        "\n",
        "# Define two vectors\n",
        "v1 = np.array([1, 2])\n",
        "v2 = np.array([3, 4])\n",
        "\n",
        "# Linear combination: 2*v1 + 3*v2\n",
        "result = 2 * v1 + 3 * v2\n",
        "\n",
        "print(\"Resulting vector:\", result)"
      ],
      "metadata": {
        "colab": {
          "base_uri": "https://localhost:8080/"
        },
        "id": "jQoBSyVgM9FL",
        "outputId": "edf78c05-38b9-4e44-e783-54bbba7aa648"
      },
      "execution_count": 2,
      "outputs": [
        {
          "output_type": "stream",
          "name": "stdout",
          "text": [
            "Resulting vector: [11 16]\n"
          ]
        }
      ]
    },
    {
      "cell_type": "markdown",
      "source": [
        "\n",
        "\n",
        "---\n",
        "\n"
      ],
      "metadata": {
        "id": "OoEZ-0y7N-lW"
      }
    },
    {
      "cell_type": "markdown",
      "source": [
        "**Span:** The span of a linear space (the set of vectors) is ALL the possible linear combinations you can make using the vectors in the given linear space.\n",
        "\n",
        "- It tells you how far you can go in different directions by combining the vectors in the set.\n",
        "\n",
        "- If you have a few vectors, the span includes everything you can create by scaling and adding them together."
      ],
      "metadata": {
        "id": "k7m7oDXN6e2f"
      }
    },
    {
      "cell_type": "code",
      "source": [
        "import matplotlib.pyplot as plt\n",
        "\n",
        "# Define two vectors\n",
        "v1 = np.array([1, 2])\n",
        "v2 = np.array([3, 1])\n",
        "\n",
        "# Generate some scalars\n",
        "scalars = np.linspace(-2, 2, 20)\n",
        "\n",
        "# Calculate linear combinations\n",
        "combinations = [s1 * v1 + s2 * v2 for s1 in scalars for s2 in scalars]\n",
        "combinations = np.array(combinations)\n",
        "\n",
        "# Plot the vectors and their span\n",
        "plt.figure(figsize=(8, 6))\n",
        "plt.scatter(combinations[:, 0], combinations[:, 1], alpha=0.5, label='Span')\n",
        "plt.arrow(0, 0, v1[0], v1[1], head_width=0.2, head_length=0.3, fc='blue', ec='blue', label='v1')\n",
        "plt.arrow(0, 0, v2[0], v2[1], head_width=0.2, head_length=0.3, fc='red', ec='red', label='v2')\n",
        "\n",
        "plt.xlabel('X-axis')\n",
        "plt.ylabel('Y-axis')\n",
        "plt.title('Span of Vectors v1 and v2')\n",
        "plt.grid(True)\n",
        "plt.legend()\n",
        "plt.xlim(-10, 10)\n",
        "plt.ylim(-10, 10)\n",
        "plt.show()\n"
      ],
      "metadata": {
        "colab": {
          "base_uri": "https://localhost:8080/",
          "height": 564
        },
        "id": "G5_xrqLyOofa",
        "outputId": "795341a2-bc09-49fd-abe6-b820ba192b88"
      },
      "execution_count": 3,
      "outputs": [
        {
          "output_type": "display_data",
          "data": {
            "text/plain": [
              "<Figure size 800x600 with 1 Axes>"
            ],
            "image/png": "[encoded data removed]"
          },
          "metadata": {}
        }
      ]
    },
    {
      "cell_type": "markdown",
      "source": [
        "\n",
        "\n",
        "---\n",
        "\n"
      ],
      "metadata": {
        "id": "uMsPVnuhOD1k"
      }
    },
    {
      "cell_type": "markdown",
      "source": [
        "**Column Space:** The column space of a matrix is the set of all possible vectors you can get by taking linear combinations of its columns.\n",
        "\n",
        "- First, imagine a matrix as a collection of columns where each column is a vector.\n",
        "\n",
        "- The column space is all the possible vectors of you can make by combining those columns in various ways using linear combinations.\n"
      ],
      "metadata": {
        "id": "zbvLs29w6mTT"
      }
    },
    {
      "cell_type": "code",
      "source": [
        "# Define a matrix\n",
        "A = np.array([[1, 2], [3, 4]])\n",
        "\n",
        "# Get the column vectors\n",
        "col1 = A[:, 0]\n",
        "col2 = A[:, 1]\n",
        "\n",
        "# Linear combination: 2*col1 + 3*col2\n",
        "result = 2 * col1 + 3 * col2\n",
        "\n",
        "print(\"Resulting vector in column space:\", result)\n"
      ],
      "metadata": {
        "colab": {
          "base_uri": "https://localhost:8080/"
        },
        "id": "P-9F_ZGsPGgw",
        "outputId": "6fdf5729-c2dc-4acc-a7f6-c023171c5d43"
      },
      "execution_count": 4,
      "outputs": [
        {
          "output_type": "stream",
          "name": "stdout",
          "text": [
            "Resulting vector in column space: [ 8 18]\n"
          ]
        }
      ]
    },
    {
      "cell_type": "markdown",
      "source": [
        "\n",
        "\n",
        "---\n",
        "\n"
      ],
      "metadata": {
        "id": "S7V0ASFfOFI5"
      }
    },
    {
      "cell_type": "markdown",
      "source": [
        "**Linear Independence:** A set of vectors is called linearly independent if none of the vectors in the set can be written as a linear combination of the others.\n",
        "\n",
        "- Linear independence means that each vector in the set contributes something unique and cannot be made by mixing the other vectors.\n",
        "\n",
        "- If even one vector can be created by adding or scaling the others, then the set is not linearly independent; it's linearly dependent.\n",
        "\n"
      ],
      "metadata": {
        "id": "L6vrHDha6xmO"
      }
    },
    {
      "cell_type": "markdown",
      "source": [
        "\n",
        "\n",
        "---\n",
        "\n"
      ],
      "metadata": {
        "id": "uQZ_i-K4OGza"
      }
    },
    {
      "cell_type": "markdown",
      "source": [
        "**Basis of a Space:** A basis of a space is a set of vectors that are both linearly independent and span the entire space.\n",
        "\n",
        "- The basis is a set of the most basic and minimal vectors that can be used to create the other vectors of a linear space using linear combinations.\n",
        "\n",
        "- The vectors in the basis are linearly independent, meaning none of them can be made from the others.\n"
      ],
      "metadata": {
        "id": "urUs39Uf7mED"
      }
    },
    {
      "cell_type": "markdown",
      "source": [
        "\n",
        "\n",
        "---\n",
        "\n"
      ],
      "metadata": {
        "id": "r2WMBvXPOHzd"
      }
    },
    {
      "cell_type": "markdown",
      "source": [
        "# **1.2.2 Orthogonality**"
      ],
      "metadata": {
        "id": "ptCg8xBw_XZ7"
      }
    },
    {
      "cell_type": "markdown",
      "source": [
        "**What is Orthogonality?**\n",
        "\n",
        "Two vectors are orthogonal if they are at a right angle (90 degrees) to each other, meaning their dot product is zero.\n",
        "\n",
        "- Orthogonality is about the relationship between two vectors: they’re \"independent\" in a special way because they point in completely different directions.\n",
        "\n",
        "- When vectors are orthogonal, there’s no overlap between them—they don’t share any component in each other’s direction."
      ],
      "metadata": {
        "id": "6lHER2wHFo1e"
      }
    },
    {
      "cell_type": "markdown",
      "source": [
        "\n",
        "\n",
        "---\n",
        "\n"
      ],
      "metadata": {
        "id": "IJeHQBZaOVWJ"
      }
    },
    {
      "cell_type": "markdown",
      "source": [
        "**Orthonormal bases:** An orthonormal basis is a set of vectors that are both orthogonal to each other and each have a length of 1.\n",
        "\n",
        "- In an orthonormal basis, all the vectors point in completely different directions (orthogonal) and are perfectly \"normalized\" to a unit length of 1.\n",
        "\n",
        "- This makes the basis vectors easy to work with, especially in calculations, because they simplify many operations."
      ],
      "metadata": {
        "id": "_oS9Q8aQ_p4t"
      }
    },
    {
      "cell_type": "code",
      "source": [
        "import numpy as np\n",
        "\n",
        "# Define two orthogonal vectors\n",
        "v1 = np.array([1, 0])\n",
        "v2 = np.array([0, 1])\n",
        "\n",
        "# Normalize the vectors to have length 1\n",
        "v1_norm = v1 / np.linalg.norm(v1)\n",
        "v2_norm = v2 / np.linalg.norm(v2)\n",
        "\n",
        "print(\"Orthonormal basis vectors:\")\n",
        "print(v1_norm)\n",
        "print(v2_norm)\n",
        "\n",
        "# Verify orthogonality (dot product should be zero)\n",
        "dot_product = np.dot(v1_norm, v2_norm)\n",
        "print(\"\\nDot product:\", dot_product)\n"
      ],
      "metadata": {
        "colab": {
          "base_uri": "https://localhost:8080/"
        },
        "id": "yS-lhGH9dwl_",
        "outputId": "1de79def-b912-4172-9933-bc4a72f59509"
      },
      "execution_count": 5,
      "outputs": [
        {
          "output_type": "stream",
          "name": "stdout",
          "text": [
            "Orthonormal basis vectors:\n",
            "[1. 0.]\n",
            "[0. 1.]\n",
            "\n",
            "Dot product: 0.0\n"
          ]
        }
      ]
    },
    {
      "cell_type": "markdown",
      "source": [
        "\n",
        "\n",
        "---\n",
        "\n"
      ],
      "metadata": {
        "id": "JPk8kSFBOUsd"
      }
    },
    {
      "cell_type": "markdown",
      "source": [
        "**Norm:** A measure of its length or size. It is also referred to as the \"magnitude\" or the \"length\" of a vector.\n",
        "\n",
        "**Inner Product:** A measure of how much they point in the same direction. Also referred to as the \"dot product\".\n",
        "\n",
        "- The dot product gives you a single number that indicates the degree of alignment between two vectors.\n",
        "\n",
        "- If the inner product is positive, the vectors are generally pointing in the same direction. If it's zero, the vectors are orthogonal (at a right angle). If it's negative, they're pointing in opposite directions."
      ],
      "metadata": {
        "id": "5lqtBwBy_x3N"
      }
    },
    {
      "cell_type": "code",
      "source": [
        "import numpy as np\n",
        "\n",
        "vector = np.array([3, 4])\n",
        "magnitude = np.linalg.norm(vector)\n",
        "\n",
        "print(\"Magnitude of the vector:\", magnitude)  # Output: 5.0\n"
      ],
      "metadata": {
        "colab": {
          "base_uri": "https://localhost:8080/"
        },
        "id": "N9Rmpn3CdeY5",
        "outputId": "3889bac5-68be-462a-ad00-bd4e56e94bb9"
      },
      "execution_count": 6,
      "outputs": [
        {
          "output_type": "stream",
          "name": "stdout",
          "text": [
            "Magnitude of the vector: 5.0\n"
          ]
        }
      ]
    },
    {
      "cell_type": "code",
      "source": [
        "# Define two vectors\n",
        "v1 = np.array([1, 2])\n",
        "v2 = np.array([3, 4])\n",
        "\n",
        "# Calculate the dot product\n",
        "dot_product = np.dot(v1, v2)\n",
        "\n",
        "print(\"Dot product of v1 and v2:\", dot_product)\n"
      ],
      "metadata": {
        "colab": {
          "base_uri": "https://localhost:8080/"
        },
        "id": "5CuvxbVrdmN8",
        "outputId": "0fab98dd-e995-45ca-92e2-3be3418de2cb"
      },
      "execution_count": 7,
      "outputs": [
        {
          "output_type": "stream",
          "name": "stdout",
          "text": [
            "Dot product of v1 and v2: 11\n"
          ]
        }
      ]
    },
    {
      "cell_type": "markdown",
      "source": [
        "\n",
        "\n",
        "---\n",
        "\n"
      ],
      "metadata": {
        "id": "F8D9h5RDOT9V"
      }
    },
    {
      "cell_type": "markdown",
      "source": [
        "**Best Approximation Theorem:** Given a vector and a subspace, the closest approximation to that vector within the subspace is its projection onto the subspace.\n",
        "\n",
        "- The theorem is about finding the best possible \"fit\" for a vector within a subspace, meaning the vector in the subspace that is as close as possible to the original vector.\n",
        "\n",
        "- This \"best fit\" is the projection of the vector onto the subspace, which minimizes the distance between the vector and the subspace."
      ],
      "metadata": {
        "id": "vFOS42yuHgRY"
      }
    },
    {
      "cell_type": "code",
      "source": [
        "import numpy as np\n",
        "\n",
        "# Vector and subspace\n",
        "v = np.array([3, 1])\n",
        "subspace_basis = np.array([1, 0])  # Subspace is the x-axis\n",
        "\n",
        "# Projection of v onto the subspace\n",
        "projection = (np.dot(v, subspace_basis) / np.dot(subspace_basis, subspace_basis)) * subspace_basis\n",
        "\n",
        "# Plot\n",
        "import matplotlib.pyplot as plt\n",
        "plt.figure(figsize=(6, 6))\n",
        "plt.plot([0, v[0]], [0, v[1]], label='v', color='blue')\n",
        "plt.plot([0, projection[0]], [0, projection[1]], label='Projection', color='red')\n",
        "plt.plot([0, subspace_basis[0]], [0, subspace_basis[1]], label='Subspace Basis', color='green')\n",
        "\n",
        "plt.xlim(-1, 4)\n",
        "plt.ylim(-1, 2)\n",
        "plt.xlabel('X-axis')\n",
        "plt.ylabel('Y-axis')\n",
        "plt.grid(True)\n",
        "plt.legend()\n",
        "plt.title('Best Approximation Theorem')\n",
        "plt.show()\n"
      ],
      "metadata": {
        "colab": {
          "base_uri": "https://localhost:8080/",
          "height": 564
        },
        "id": "oW9OuA2CdP5A",
        "outputId": "72fb7821-a39d-4795-d78c-30bbea97d613"
      },
      "execution_count": 8,
      "outputs": [
        {
          "output_type": "display_data",
          "data": {
            "text/plain": [
              "<Figure size 600x600 with 1 Axes>"
            ],
            "image/png": "[encoded data removed]"
          },
          "metadata": {}
        }
      ]
    },
    {
      "cell_type": "markdown",
      "source": [
        "\n",
        "\n",
        "---\n",
        "\n"
      ],
      "metadata": {
        "id": "LJvaSqLmOTLE"
      }
    },
    {
      "cell_type": "markdown",
      "source": [
        "**Orthogonal Projection:** The \"shadow\" or closest point in the subspace that you get by dropping a perpendicular line from the vector to the subspace.\n",
        "\n",
        "- The orthogonal projection is about finding the point in the subspace that is closest to the original vector.\n",
        "\n",
        "- This \"closest point\" is where the vector \"drops down\" perpendicular to the subspace, like how a shadow falls directly beneath an object in the light."
      ],
      "metadata": {
        "id": "UyFGPT8gJRUg"
      }
    },
    {
      "cell_type": "code",
      "source": [
        "import numpy as np\n",
        "\n",
        "# Vector to project\n",
        "v = np.array([3, 4])\n",
        "\n",
        "# Subspace (represented by a single vector)\n",
        "u = np.array([1, 0])\n",
        "\n",
        "# Calculate the projection of v onto u\n",
        "projection = (np.dot(v, u) / np.dot(u, u)) * u\n",
        "\n",
        "print(\"Projection of v onto u:\", projection)\n"
      ],
      "metadata": {
        "colab": {
          "base_uri": "https://localhost:8080/"
        },
        "id": "rPmb6SbGc9Xn",
        "outputId": "2d4c59ba-88a8-4fdf-8be3-fd1de6619119"
      },
      "execution_count": 9,
      "outputs": [
        {
          "output_type": "stream",
          "name": "stdout",
          "text": [
            "Projection of v onto u: [3. 0.]\n"
          ]
        }
      ]
    },
    {
      "cell_type": "markdown",
      "source": [
        "\n",
        "\n",
        "---\n",
        "\n"
      ],
      "metadata": {
        "id": "_q3cKBNfOSeB"
      }
    },
    {
      "cell_type": "markdown",
      "source": [
        "# **1.2.3 Gram–Schmidt Process**\n",
        "**Gram–Schmidt process:** A method for taking a set of vectors and turning them into an orthogonal (or orthonormal) set of vectors, where each new vector is perpendicular to the ones before it.\n",
        "\n",
        "- The process starts with a set of linearly independent vectors and \"orthogonalizes\" them, ensuring that each vector in the new set is orthogonal (at a right angle) to the others.\n",
        "\n",
        "- If you normalize the orthogonal vectors (make their length 1), the process gives you an orthonormal set of vectors."
      ],
      "metadata": {
        "id": "oFzYjVQ8JhKS"
      }
    },
    {
      "cell_type": "code",
      "source": [
        "def gram_schmidt_matrix(A):\n",
        "    \"\"\"\n",
        "    Find the Gram-Schmidt of a Matrix\n",
        "    \"\"\"\n",
        "\n",
        "    # Set A to float type\n",
        "    A = A.astype('float64')\n",
        "\n",
        "    # Copy A. First column remains the same\n",
        "    U = np.copy(A.astype('float64'))\n",
        "\n",
        "    # Copy A. First column is the same but normalized\n",
        "    E = np.zeros(A.shape)\n",
        "    E[:, 0] = A[:, 0] / np.linalg.norm(A[:, 0])\n",
        "\n",
        "    # Iterate through each column\n",
        "    for k in range(1, U.shape[1]):\n",
        "\n",
        "        u_k = A[:, k]\n",
        "\n",
        "        # Iterate through each column to the left of k\n",
        "        for j in range(k):\n",
        "            u_k -= project(U[:, j], A[:, k])\n",
        "\n",
        "        # Update U\n",
        "        U[:, k] = u_k\n",
        "\n",
        "        # Update E\n",
        "        E[:, k] = U[:, k] / np.linalg.norm(U[:, k])\n",
        "\n",
        "    return E"
      ],
      "metadata": {
        "id": "jKXfZYN7cgP1"
      },
      "execution_count": 15,
      "outputs": []
    },
    {
      "cell_type": "code",
      "source": [
        "# Calculate the Gram-Schmidt of A\n",
        "gs_A = gram_schmidt_matrix(A)\n",
        "\n",
        "print(\"Gram-Schmidt Matrix of A:\")\n",
        "print(gs_A)"
      ],
      "metadata": {
        "id": "vBcBYmC1fh6n"
      },
      "execution_count": null,
      "outputs": []
    },
    {
      "cell_type": "markdown",
      "source": [
        "\n",
        "\n",
        "---\n",
        "\n"
      ],
      "metadata": {
        "id": "_A6trdUCORR_"
      }
    },
    {
      "cell_type": "markdown",
      "source": [
        "# **1.2.4 Eigenvalues and Eigenvectors**\n",
        "\n",
        "**Eigenvectors:** An eigenvector of a matrix is a special vector that, when the matrix is applied to it, only gets scaled (stretched or shrunk) and doesn’t change direction. The amount by which it gets scaled is called the eigenvalue.\n",
        "\n",
        "- Eigenvectors are special because they don’t change direction when you apply the matrix to them; they just get stretched or compressed.\n",
        "\n",
        "**Eigenvalues:** The factors by which the eigenvectors are stretched or shrunk."
      ],
      "metadata": {
        "id": "hhqAt0sTJjbF"
      }
    },
    {
      "cell_type": "code",
      "source": [
        "import numpy as np\n",
        "\n",
        "# Define a matrix\n",
        "A = np.array([[2, 1], [1, 2]])\n",
        "\n",
        "# Calculate eigenvalues and eigenvectors\n",
        "eigenvalues, eigenvectors = np.linalg.eig(A)\n",
        "\n",
        "print(\"Eigenvalues:\", eigenvalues)\n",
        "print(\"Eigenvectors:\")\n",
        "print(eigenvectors)\n"
      ],
      "metadata": {
        "colab": {
          "base_uri": "https://localhost:8080/"
        },
        "id": "Y-csBIRocx2n",
        "outputId": "de6e0922-a8df-424a-eecf-0e9a72f5d578"
      },
      "execution_count": 2,
      "outputs": [
        {
          "output_type": "stream",
          "name": "stdout",
          "text": [
            "Eigenvalues: [3. 1.]\n",
            "Eigenvectors:\n",
            "[[ 0.70710678 -0.70710678]\n",
            " [ 0.70710678  0.70710678]]\n"
          ]
        }
      ]
    }
  ]
}