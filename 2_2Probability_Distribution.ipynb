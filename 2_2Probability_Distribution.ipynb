{
  "cells": [
    {
      "cell_type": "markdown",
      "metadata": {
        "id": "view-in-github",
        "colab_type": "text"
      },
      "source": [
        "<a href=\"https://colab.research.google.com/github/FeedingDejaj/MAT422/blob/main/2_2Probability_Distribution.ipynb\" target=\"_parent\"><img src=\"https://colab.research.google.com/assets/colab-badge.svg\" alt=\"Open In Colab\"/></a>"
      ]
    },
    {
      "cell_type": "markdown",
      "id": "0a0d4270",
      "metadata": {
        "id": "0a0d4270"
      },
      "source": [
        "## 2.2 Probability Distribution\n"
      ]
    },
    {
      "cell_type": "markdown",
      "id": "08dd3776",
      "metadata": {
        "id": "08dd3776"
      },
      "source": [
        "By Abdula Alkhafaji with assistance from Glendale Community College Tutoring Center"
      ]
    },
    {
      "cell_type": "markdown",
      "id": "b47fdf9b",
      "metadata": {
        "id": "b47fdf9b"
      },
      "source": [
        "## 2.2.1. Probability Axioms"
      ]
    },
    {
      "cell_type": "markdown",
      "id": "94563a0f",
      "metadata": {
        "id": "94563a0f"
      },
      "source": [
        "The axioms of probability are the foundation of probability theory. These are three basic rules that all probabilities must satisfy:\n",
        "\n",
        "1. **Non-negativity**: The probability of an event is always non-negative.\n",
        "2. **Normalization**: The probability of the entire sample space is 1.\n",
        "3. **Additivity**: For any two mutually exclusive events, the probability of their union is the sum of their individual probabilities."
      ]
    },
    {
      "cell_type": "code",
      "execution_count": 3,
      "id": "b7d781ce",
      "metadata": {
        "colab": {
          "base_uri": "https://localhost:8080/"
        },
        "id": "b7d781ce",
        "outputId": "a06d2342-27ed-4622-939c-a50ef77b28f4"
      },
      "outputs": [
        {
          "output_type": "stream",
          "name": "stdout",
          "text": [
            "The outcome of rolling the die is: 4\n"
          ]
        }
      ],
      "source": [
        "import numpy as np\n",
        "\n",
        "# Define a probability distribution for rolling a fair six-sided die\n",
        "probabilities = np.array([1/6, 1/6, 1/6, 1/6, 1/6, 1/6])\n",
        "\n",
        "# Generate a random sample from this distribution\n",
        "outcome = np.random.choice([1, 2, 3, 4, 5, 6], p=probabilities)\n",
        "\n",
        "print(f\"The outcome of rolling the die is: {outcome}\")\n"
      ]
    },
    {
      "cell_type": "markdown",
      "id": "e85182db",
      "metadata": {
        "id": "e85182db"
      },
      "source": [
        "## 2.2.2. Conditional Probability"
      ]
    },
    {
      "cell_type": "markdown",
      "id": "f6c39971",
      "metadata": {
        "id": "f6c39971"
      },
      "source": [
        "Conditional probability is the probability of an event occurring given that another event has already occurred. It is calculated using the formula:\n",
        "\n",
        "$$ P(A|B) = \\frac{P(A \\cap B)}{P(B)} $$\n",
        "\n",
        "Where:\n",
        "- $P(A|B)$ is the conditional probability of A given B.\n",
        "- $P(A \\cap B)$ is the probability of both A and B occurring.\n",
        "- $P(B)$ is the probability of B."
      ]
    },
    {
      "cell_type": "code",
      "execution_count": 5,
      "id": "6d1ce99b",
      "metadata": {
        "colab": {
          "base_uri": "https://localhost:8080/"
        },
        "id": "6d1ce99b",
        "outputId": "96cdeb9b-4442-4784-91a7-64f1440b78ec"
      },
      "outputs": [
        {
          "output_type": "stream",
          "name": "stdout",
          "text": [
            "P(A|B) = 0.40\n"
          ]
        }
      ],
      "source": [
        "P_A_and_B = 0.2  # Probability of A and B both happening\n",
        "P_B = 0.5        # Probability of B happening\n",
        "\n",
        "P_A_given_B = P_A_and_B / P_B\n",
        "print(f'P(A|B) = {P_A_given_B:.2f}')"
      ]
    },
    {
      "cell_type": "markdown",
      "id": "0ab15cf1",
      "metadata": {
        "id": "0ab15cf1"
      },
      "source": [
        "## 2.2.3. Discrete Random Variables"
      ]
    },
    {
      "cell_type": "markdown",
      "id": "b6193733",
      "metadata": {
        "id": "b6193733"
      },
      "source": [
        "A discrete random variable is a variable that can take on a finite or countable number of values. The probability distribution of a discrete random variable is a list of the probabilities of each possible value."
      ]
    },
    {
      "cell_type": "code",
      "execution_count": 6,
      "id": "40294cc4",
      "metadata": {
        "colab": {
          "base_uri": "https://localhost:8080/",
          "height": 472
        },
        "id": "40294cc4",
        "outputId": "31966637-7452-4f51-de42-225d87b68794"
      },
      "outputs": [
        {
          "output_type": "display_data",
          "data": {
            "text/plain": [
              "<Figure size 640x480 with 1 Axes>"
            ],
            "image/png": "[encoded data removed]"
          },
          "metadata": {}
        }
      ],
      "source": [
        "import numpy as np\n",
        "import matplotlib.pyplot as plt\n",
        "\n",
        "\n",
        "rolls = np.random.choice([1, 2, 3, 4, 5, 6], size=1000)\n",
        "plt.hist(rolls, bins=6, density=True, edgecolor='black')\n",
        "plt.title('Discrete Random Variable: Dice Roll')\n",
        "plt.xlabel('Outcome')\n",
        "plt.ylabel('Probability')\n",
        "plt.show()"
      ]
    },
    {
      "cell_type": "markdown",
      "id": "aa30908b",
      "metadata": {
        "id": "aa30908b"
      },
      "source": [
        "## 2.2.4. Continuous Random Variables"
      ]
    },
    {
      "cell_type": "markdown",
      "id": "0b47a703",
      "metadata": {
        "id": "0b47a703"
      },
      "source": [
        "A continuous random variable is a variable that can take on an infinite number of values within a certain range. The probability that a continuous random variable takes any specific value is 0, but we can define the probability of it falling within a given range using a probability density function (PDF)."
      ]
    },
    {
      "cell_type": "code",
      "execution_count": 7,
      "id": "edf0ee38",
      "metadata": {
        "colab": {
          "base_uri": "https://localhost:8080/",
          "height": 472
        },
        "id": "edf0ee38",
        "outputId": "7d4ff688-7ac7-48ef-9163-67de5000d217"
      },
      "outputs": [
        {
          "output_type": "display_data",
          "data": {
            "text/plain": [
              "<Figure size 640x480 with 1 Axes>"
            ],
            "image/png": "[encoded data removed]"
          },
          "metadata": {}
        }
      ],
      "source": [
        "x = np.linspace(-5, 5, 1000)\n",
        "pdf = (1 / np.sqrt(2 * np.pi)) * np.exp(-0.5 * x**2)\n",
        "plt.plot(x, pdf)\n",
        "plt.title('Continuous Random Variable: Normal Distribution')\n",
        "plt.xlabel('Value')\n",
        "plt.ylabel('Probability Density')\n",
        "plt.show()"
      ]
    },
    {
      "cell_type": "markdown",
      "id": "1f757075",
      "metadata": {
        "id": "1f757075"
      },
      "source": [
        "The axioms of probability are the foundation of probability theory. These are three basic rules that all probabilities must satisfy:\n",
        "\n",
        "1. **Non-negativity**: The probability of an event is always non-negative.\n",
        "2. **Normalization**: The probability of the entire sample space is 1.\n",
        "3. **Additivity**: For any two mutually exclusive events, the probability of their union is the sum of their individual probabilities.\n",
        "\n",
        "**Sample Space**: The sample space $S$ of an experiment is the set of all possible outcomes."
      ]
    },
    {
      "cell_type": "markdown",
      "id": "37003e52",
      "metadata": {
        "id": "37003e52"
      },
      "source": [
        "### 2.2.1. Event"
      ]
    },
    {
      "cell_type": "markdown",
      "id": "0430ff89",
      "metadata": {
        "id": "0430ff89"
      },
      "source": [
        "An **event** is a subset of the sample space. Events can be simple (one outcome) or compound (multiple outcomes)."
      ]
    },
    {
      "cell_type": "markdown",
      "id": "ca2ce746",
      "metadata": {
        "id": "ca2ce746"
      },
      "source": [
        "### 2.2.3. Probability Distribution"
      ]
    },
    {
      "cell_type": "markdown",
      "id": "eba62a27",
      "metadata": {
        "id": "eba62a27"
      },
      "source": [
        "The **probability distribution** assigns probabilities to the outcomes in the sample space. For example, if event $A$ consists of several outcomes, then the probability of $A$, denoted $P(A)$, is the sum of the probabilities of those outcomes."
      ]
    },
    {
      "cell_type": "code",
      "execution_count": null,
      "id": "a9190dd4",
      "metadata": {
        "id": "a9190dd4"
      },
      "outputs": [],
      "source": [
        "outcomes = {'a': 0.2, 'b': 0.3, 'c': 0.5}  # probabilities of individual outcomes\n",
        "event_A = ['a', 'b']  # event A contains outcomes 'a' and 'b'\n",
        "P_A = sum(outcomes[outcome] for outcome in event_A)\n",
        "print(f'P(A) = {P_A}')"
      ]
    },
    {
      "cell_type": "markdown",
      "id": "28f63438",
      "metadata": {
        "id": "28f63438"
      },
      "source": [
        "Conditional probability is the probability of an event occurring given that another event has already occurred. It is calculated using the formula:\n",
        "\n",
        "$$ P(A|B) = \\frac{P(A \\cap B)}{P(B)} $$\n",
        "\n",
        "Where:\n",
        "- $P(A|B)$ is the conditional probability of A given B.\n",
        "- $P(A \\cap B)$ is the probability of both A and B occurring.\n",
        "- $P(B)$ is the probability of B."
      ]
    },
    {
      "cell_type": "markdown",
      "id": "4c888e30",
      "metadata": {
        "id": "4c888e30"
      },
      "source": [
        "### 2.2.6. Independent and Dependent Events"
      ]
    },
    {
      "cell_type": "markdown",
      "id": "468dff11",
      "metadata": {
        "id": "468dff11"
      },
      "source": [
        "Two events are **independent** if the occurrence of one does not affect the occurrence of the other.\n",
        "If $P(A|B) = P(A)$, then events A and B are independent.\n",
        "\n",
        "Events are **dependent** if the occurrence of one affects the occurrence of the other."
      ]
    },
    {
      "cell_type": "markdown",
      "id": "2b245572",
      "metadata": {
        "id": "2b245572"
      },
      "source": [
        "### 2.2.7. Mutually Independent Events"
      ]
    },
    {
      "cell_type": "markdown",
      "id": "3a7bac59",
      "metadata": {
        "id": "3a7bac59"
      },
      "source": [
        "Events are **mutually independent** if each event is independent of the other events."
      ]
    },
    {
      "cell_type": "markdown",
      "id": "0db9fc33",
      "metadata": {
        "id": "0db9fc33"
      },
      "source": [
        "A **random variable** is a variable that takes on different values depending on the outcome of a random experiment.\n",
        "A **discrete random variable** takes on a finite or countable number of values.\n",
        "A **continuous random variable**, on the other hand, can take on an infinite number of values within a certain range."
      ]
    },
    {
      "cell_type": "markdown",
      "id": "c34ba79e",
      "metadata": {
        "id": "c34ba79e"
      },
      "source": [
        "### 2.2.10 Probability Mass Function and Cumulative Distribution Function"
      ]
    },
    {
      "cell_type": "markdown",
      "id": "a8891e6d",
      "metadata": {
        "id": "a8891e6d"
      },
      "source": [
        "The **Probability Mass Function (PMF)** gives the probability that a discrete random variable is exactly equal to a particular value.\n",
        "\n",
        "The **Cumulative Distribution Function (CDF)** gives the probability that a random variable is less than or equal to a particular value."
      ]
    },
    {
      "cell_type": "markdown",
      "id": "5206862c",
      "metadata": {
        "id": "5206862c"
      },
      "source": [
        "### 2.2.12 Bernoulli and Poisson Distribution"
      ]
    },
    {
      "cell_type": "markdown",
      "id": "dd3a1ab0",
      "metadata": {
        "id": "dd3a1ab0"
      },
      "source": [
        "The **Bernoulli distribution** models the outcome of a single trial with two possible outcomes: success (1) and failure (0).\n",
        "\n",
        "The **Poisson distribution** is used to model the number of events occurring within a fixed interval of time or space."
      ]
    },
    {
      "cell_type": "markdown",
      "id": "459e8115",
      "metadata": {
        "id": "459e8115"
      },
      "source": [
        "### 2.2.14 Expected Value and Variance"
      ]
    },
    {
      "cell_type": "markdown",
      "id": "cbda5514",
      "metadata": {
        "id": "cbda5514"
      },
      "source": [
        "The **expected value** (or mean) of a random variable is the long-run average value of repetitions of the experiment.\n",
        "The **variance** of a random variable measures the spread of the values of the random variable."
      ]
    },
    {
      "cell_type": "markdown",
      "id": "8d2f16b9",
      "metadata": {
        "id": "8d2f16b9"
      },
      "source": [
        "A **continuous random variable** is a variable that can take on an infinite number of values within a given range. The **probability density function (PDF)** describes the probability of the variable falling within a particular range."
      ]
    },
    {
      "cell_type": "markdown",
      "id": "61ac3313",
      "metadata": {
        "id": "61ac3313"
      },
      "source": [
        "### 2.2.21 Expected Value and Variance of Continuous Random Variables"
      ]
    },
    {
      "cell_type": "markdown",
      "id": "a3ff1fbe",
      "metadata": {
        "id": "a3ff1fbe"
      },
      "source": [
        "The **expected value** of a continuous random variable is the average or mean value of the variable.\n",
        "The **variance** measures the spread of the variable."
      ]
    }
  ],
  "metadata": {
    "colab": {
      "provenance": [],
      "include_colab_link": true
    },
    "language_info": {
      "name": "python"
    },
    "kernelspec": {
      "name": "python3",
      "display_name": "Python 3"
    }
  },
  "nbformat": 4,
  "nbformat_minor": 5
}